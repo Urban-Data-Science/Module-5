{
 "cells": [
  {
   "cell_type": "markdown",
   "metadata": {},
   "source": [
    "# LAB 5. Hypothesis testing. Green taxi case"
   ]
  },
  {
   "cell_type": "markdown",
   "metadata": {},
   "source": [
    "Test varios hypothesis about ridership volume and trip characteristics for green taxi trips in 2018-2020. \n",
    "\n",
    "Does the ridership decline over time? Does it depend on the day of the week and time of the day? Does the distribution of the trip parameters (distance, time, speed) depend on the day of the week and borough?"
   ]
  },
  {
   "cell_type": "code",
   "execution_count": 1,
   "metadata": {},
   "outputs": [],
   "source": [
    "#import the modules\n",
    "import pandas as pd\n",
    "import geopandas as gpd\n",
    "import urllib.request\n",
    "import os\n",
    "import numpy as np\n",
    "from scipy import stats\n",
    "import matplotlib.pyplot as plt\n",
    "import warnings\n",
    "warnings.filterwarnings('ignore')"
   ]
  },
  {
   "cell_type": "code",
   "execution_count": 2,
   "metadata": {},
   "outputs": [],
   "source": [
    "#create the folders\n",
    "if not os.path.exists('Data'):\n",
    "    !mkdir Data\n",
    "if not os.path.exists('Data/TLC'):\n",
    "    !mkdir Data/TLC"
   ]
  },
  {
   "cell_type": "code",
   "execution_count": 4,
   "metadata": {},
   "outputs": [
    {
     "name": "stdout",
     "output_type": "stream",
     "text": [
      "done\n"
     ]
    }
   ],
   "source": [
    "#download green taxi data if not downloaded yet; might take a couple of minutes\n",
    "for year in [2018,2019,2020]:\n",
    "    for month in range(1,13):\n",
    "        if year == 2020 and month > 6:\n",
    "            pass\n",
    "        else:\n",
    "            file = 'green_tripdata_'+str(year)+'-'+str(month).zfill(2)+'.csv'\n",
    "            if not os.path.exists('Data/TLC/'+file):\n",
    "                url = 'https://s3.amazonaws.com/nyc-tlc/trip+data/'+file\n",
    "                urllib.request.urlretrieve(url,'Data/TLC/'+file)\n",
    "print('done')"
   ]
  },
  {
   "cell_type": "code",
   "execution_count": 6,
   "metadata": {},
   "outputs": [],
   "source": [
    "#concatenate all the files into a single dataframe - takes up to a minute\n",
    "files = os.listdir('./Data/TLC/')\n",
    "dfList = []\n",
    "\n",
    "for index,filename in enumerate(files):\n",
    "    if '.csv' in filename:\n",
    "        if index == 0:\n",
    "            df = pd.read_csv('./Data/TLC/'+filename, index_col=None)\n",
    "        else:\n",
    "            df = pd.read_csv('./Data/TLC/'+filename, index_col=None, header=0)\n",
    "        dfList.append(df)\n",
    "dfTaxi = pd.concat(dfList, axis=0, ignore_index=True)"
   ]
  },
  {
   "cell_type": "code",
   "execution_count": 7,
   "metadata": {},
   "outputs": [
    {
     "data": {
      "text/plain": [
       "Index(['DOLocationID', 'PULocationID', 'RatecodeID', 'VendorID',\n",
       "       'congestion_surcharge', 'ehail_fee', 'extra', 'fare_amount',\n",
       "       'improvement_surcharge', 'lpep_dropoff_datetime',\n",
       "       'lpep_pickup_datetime', 'mta_tax', 'passenger_count', 'payment_type',\n",
       "       'store_and_fwd_flag', 'tip_amount', 'tolls_amount', 'total_amount',\n",
       "       'trip_distance', 'trip_type'],\n",
       "      dtype='object')"
      ]
     },
     "execution_count": 7,
     "metadata": {},
     "output_type": "execute_result"
    }
   ],
   "source": [
    "dfTaxi.columns"
   ]
  },
  {
   "cell_type": "code",
   "execution_count": 8,
   "metadata": {},
   "outputs": [],
   "source": [
    "#take care of the timestamp types\n",
    "dfTaxi['lpep_pickup_datetime'] = pd.to_datetime(dfTaxi['lpep_pickup_datetime'])\n",
    "dfTaxi['lpep_dropoff_datetime'] = pd.to_datetime(dfTaxi['lpep_dropoff_datetime'])"
   ]
  },
  {
   "cell_type": "code",
   "execution_count": 9,
   "metadata": {},
   "outputs": [],
   "source": [
    "#extract date, year, day of the week and hour (takes some time around half a minute)\n",
    "dfTaxi['Date'] = dfTaxi['lpep_pickup_datetime'].dt.date\n",
    "dfTaxi['Month'] = dfTaxi['lpep_pickup_datetime'].dt.month\n",
    "dfTaxi['Year'] = dfTaxi['lpep_pickup_datetime'].dt.year\n",
    "dfTaxi['DOW'] = dfTaxi['lpep_pickup_datetime'].dt.dayofweek\n",
    "dfTaxi['Hour'] = dfTaxi['lpep_pickup_datetime'].dt.hour\n",
    "dfTaxi = dfTaxi.loc[dfTaxi['Year'].isin([2018,2019,2020])]"
   ]
  },
  {
   "cell_type": "code",
   "execution_count": 10,
   "metadata": {},
   "outputs": [],
   "source": [
    "#calculate trip duration in minutes\n",
    "dfTaxi['trip_duration'] = (dfTaxi['lpep_dropoff_datetime'] - dfTaxi['lpep_pickup_datetime'])\n",
    "dfTaxi['trip_duration'] = dfTaxi['trip_duration'].dt.total_seconds() / 60"
   ]
  },
  {
   "cell_type": "code",
   "execution_count": 11,
   "metadata": {},
   "outputs": [],
   "source": [
    "dfTaxi['speed'] = dfTaxi['trip_distance'] / (dfTaxi['trip_duration'] / 60) #avg trip speed in miles per hoiur"
   ]
  },
  {
   "cell_type": "code",
   "execution_count": 12,
   "metadata": {},
   "outputs": [
    {
     "data": {
      "text/plain": [
       "16076540"
      ]
     },
     "execution_count": 12,
     "metadata": {},
     "output_type": "execute_result"
    }
   ],
   "source": [
    "len(dfTaxi) #original number of records"
   ]
  },
  {
   "cell_type": "code",
   "execution_count": 13,
   "metadata": {},
   "outputs": [
    {
     "data": {
      "text/plain": [
       "15537613"
      ]
     },
     "execution_count": 13,
     "metadata": {},
     "output_type": "execute_result"
    }
   ],
   "source": [
    "#sanity filtering\n",
    "dfTaxi = dfTaxi[(dfTaxi['Date']<=pd.to_datetime('6/30/2020')) & (dfTaxi.trip_distance < 100)\n",
    "           & (dfTaxi.speed <= 80) & (dfTaxi.speed >= 1) & (dfTaxi.trip_duration <= 100) & (dfTaxi.trip_duration >= 1)]\n",
    "len(dfTaxi) #remaining records"
   ]
  },
  {
   "cell_type": "code",
   "execution_count": 14,
   "metadata": {},
   "outputs": [],
   "source": [
    "#daily total trip counts and cumulative duration and distance traveled\n",
    "dfTaxiDaily = dfTaxi.groupby(['Year','Month','DOW','Date']).\\\n",
    "            agg({'lpep_pickup_datetime':'count','trip_duration':'sum','trip_distance':'sum'}).\\\n",
    "            rename(columns={'lpep_pickup_datetime':'trip_count'}).reset_index()\n",
    "dfTaxiDaily = dfTaxiDaily.sort_values(by='Date')"
   ]
  },
  {
   "cell_type": "code",
   "execution_count": 15,
   "metadata": {},
   "outputs": [],
   "source": [
    "dfTaxiDaily['speed'] = dfTaxiDaily['trip_distance'] / dfTaxiDaily['trip_duration'] * 60"
   ]
  },
  {
   "cell_type": "code",
   "execution_count": 16,
   "metadata": {},
   "outputs": [
    {
     "data": {
      "text/html": [
       "<div>\n",
       "<style scoped>\n",
       "    .dataframe tbody tr th:only-of-type {\n",
       "        vertical-align: middle;\n",
       "    }\n",
       "\n",
       "    .dataframe tbody tr th {\n",
       "        vertical-align: top;\n",
       "    }\n",
       "\n",
       "    .dataframe thead th {\n",
       "        text-align: right;\n",
       "    }\n",
       "</style>\n",
       "<table border=\"1\" class=\"dataframe\">\n",
       "  <thead>\n",
       "    <tr style=\"text-align: right;\">\n",
       "      <th></th>\n",
       "      <th>Year</th>\n",
       "      <th>Month</th>\n",
       "      <th>DOW</th>\n",
       "      <th>Date</th>\n",
       "      <th>trip_count</th>\n",
       "      <th>trip_duration</th>\n",
       "      <th>trip_distance</th>\n",
       "      <th>speed</th>\n",
       "    </tr>\n",
       "  </thead>\n",
       "  <tbody>\n",
       "    <tr>\n",
       "      <td>0</td>\n",
       "      <td>2018</td>\n",
       "      <td>1</td>\n",
       "      <td>0</td>\n",
       "      <td>2018-01-01</td>\n",
       "      <td>22423</td>\n",
       "      <td>264304.966667</td>\n",
       "      <td>68020.99</td>\n",
       "      <td>15.441478</td>\n",
       "    </tr>\n",
       "    <tr>\n",
       "      <td>5</td>\n",
       "      <td>2018</td>\n",
       "      <td>1</td>\n",
       "      <td>1</td>\n",
       "      <td>2018-01-02</td>\n",
       "      <td>22612</td>\n",
       "      <td>274769.883333</td>\n",
       "      <td>59582.22</td>\n",
       "      <td>13.010644</td>\n",
       "    </tr>\n",
       "    <tr>\n",
       "      <td>10</td>\n",
       "      <td>2018</td>\n",
       "      <td>1</td>\n",
       "      <td>2</td>\n",
       "      <td>2018-01-03</td>\n",
       "      <td>25687</td>\n",
       "      <td>342076.633333</td>\n",
       "      <td>69511.54</td>\n",
       "      <td>12.192275</td>\n",
       "    </tr>\n",
       "    <tr>\n",
       "      <td>15</td>\n",
       "      <td>2018</td>\n",
       "      <td>1</td>\n",
       "      <td>3</td>\n",
       "      <td>2018-01-04</td>\n",
       "      <td>6298</td>\n",
       "      <td>80906.850000</td>\n",
       "      <td>16407.39</td>\n",
       "      <td>12.167615</td>\n",
       "    </tr>\n",
       "    <tr>\n",
       "      <td>19</td>\n",
       "      <td>2018</td>\n",
       "      <td>1</td>\n",
       "      <td>4</td>\n",
       "      <td>2018-01-05</td>\n",
       "      <td>26774</td>\n",
       "      <td>341913.516667</td>\n",
       "      <td>64378.27</td>\n",
       "      <td>11.297290</td>\n",
       "    </tr>\n",
       "  </tbody>\n",
       "</table>\n",
       "</div>"
      ],
      "text/plain": [
       "    Year  Month  DOW        Date  trip_count  trip_duration  trip_distance  \\\n",
       "0   2018      1    0  2018-01-01       22423  264304.966667       68020.99   \n",
       "5   2018      1    1  2018-01-02       22612  274769.883333       59582.22   \n",
       "10  2018      1    2  2018-01-03       25687  342076.633333       69511.54   \n",
       "15  2018      1    3  2018-01-04        6298   80906.850000       16407.39   \n",
       "19  2018      1    4  2018-01-05       26774  341913.516667       64378.27   \n",
       "\n",
       "        speed  \n",
       "0   15.441478  \n",
       "5   13.010644  \n",
       "10  12.192275  \n",
       "15  12.167615  \n",
       "19  11.297290  "
      ]
     },
     "execution_count": 16,
     "metadata": {},
     "output_type": "execute_result"
    }
   ],
   "source": [
    "dfTaxiDaily.head()"
   ]
  },
  {
   "cell_type": "code",
   "execution_count": 17,
   "metadata": {},
   "outputs": [
    {
     "data": {
      "image/png": "[encoded data removed]",
      "text/plain": [
       "<Figure size 432x288 with 1 Axes>"
      ]
     },
     "metadata": {
      "needs_background": "light"
     },
     "output_type": "display_data"
    }
   ],
   "source": [
    "#ridership timeline - daily trip counts; seem to decline and particularly during the pandemics lockdown\n",
    "plt.plot(dfTaxiDaily['Date'], dfTaxiDaily['trip_count'])\n",
    "plt.xticks(rotation=70);\n",
    "plt.show()"
   ]
  },
  {
   "cell_type": "code",
   "execution_count": 18,
   "metadata": {},
   "outputs": [
    {
     "data": {
      "text/plain": [
       "<matplotlib.legend.Legend at 0x1a4b95ee10>"
      ]
     },
     "execution_count": 18,
     "metadata": {},
     "output_type": "execute_result"
    },
    {
     "data": {
      "image/png": "[encoded data removed]",
      "text/plain": [
       "<Figure size 432x288 with 1 Axes>"
      ]
     },
     "metadata": {
      "needs_background": "light"
     },
     "output_type": "display_data"
    }
   ],
   "source": [
    "#histograms of daily counts in 2019 and 2018 - distributions look different\n",
    "plt.hist(dfTaxiDaily.loc[dfTaxiDaily['Year']==2018]['trip_count'].values,bins=30,label='2018')\n",
    "plt.hist(dfTaxiDaily.loc[dfTaxiDaily['Year']==2019]['trip_count'].values,bins=30,alpha=0.9,label='2019')\n",
    "#plt.hist(dfTaxiDaily.loc[dfTaxiDaily['Year']==2020]['trip_count'].values,bins=30,alpha=0.5,label='2020')\n",
    "plt.legend()"
   ]
  },
  {
   "cell_type": "code",
   "execution_count": 19,
   "metadata": {},
   "outputs": [
    {
     "data": {
      "text/plain": [
       "Ttest_indResult(statistic=32.155781291624635, pvalue=7.181870622808444e-142)"
      ]
     },
     "execution_count": 19,
     "metadata": {},
     "output_type": "execute_result"
    }
   ],
   "source": [
    "## t-test between the 2019 and 2018 distributions\n",
    "stats.ttest_ind(dfTaxiDaily.loc[dfTaxiDaily['Year']==2018]['trip_count'],dfTaxiDaily.loc[dfTaxiDaily['Year']==2019]['trip_count'])"
   ]
  },
  {
   "cell_type": "code",
   "execution_count": 20,
   "metadata": {},
   "outputs": [
    {
     "data": {
      "text/plain": [
       "Ks_2sampResult(statistic=0.7726027397260274, pvalue=1.0796371035959268e-107)"
      ]
     },
     "execution_count": 20,
     "metadata": {},
     "output_type": "execute_result"
    }
   ],
   "source": [
    "## K-S test\n",
    "stats.ks_2samp(dfTaxiDaily.loc[dfTaxiDaily['Year']==2018]['trip_count'],dfTaxiDaily.loc[dfTaxiDaily['Year']==2019]['trip_count'])"
   ]
  },
  {
   "cell_type": "markdown",
   "metadata": {},
   "source": [
    "So the hypothesis that 2018 and 2019 daily trip counts follow the same distributions can be rejected beyond any reasonable doubt"
   ]
  },
  {
   "cell_type": "code",
   "execution_count": 21,
   "metadata": {},
   "outputs": [
    {
     "data": {
      "text/plain": [
       "(5797411, 5797411)"
      ]
     },
     "execution_count": 21,
     "metadata": {},
     "output_type": "execute_result"
    }
   ],
   "source": [
    "#For further analysis select the year 2019\n",
    "dfTaxiDaily2019 = dfTaxiDaily.loc[dfTaxiDaily['Year']==2019] #daily aggregates\n",
    "dfTaxi2019 = dfTaxi.loc[dfTaxi['Year']==2019] #individual trips\n",
    "(dfTaxiDaily2019['trip_count'].sum(),len(dfTaxi2019)) #total trip counts in either dataset"
   ]
  },
  {
   "cell_type": "markdown",
   "metadata": {},
   "source": [
    "## Example 1. Test if weekend ridership is different from weekday"
   ]
  },
  {
   "cell_type": "code",
   "execution_count": 22,
   "metadata": {},
   "outputs": [
    {
     "data": {
      "text/plain": [
       "Ttest_indResult(statistic=-2.1367615679779988, pvalue=0.033397463681736655)"
      ]
     },
     "execution_count": 22,
     "metadata": {},
     "output_type": "execute_result"
    }
   ],
   "source": [
    "# Monday is 0, Sunday is 6; weekends: DOW>4, weekdays: DOW<4\n",
    "# t-test\n",
    "stats.ttest_ind(dfTaxiDaily2019.loc[dfTaxiDaily2019['DOW']>4]['trip_count'],\n",
    "                dfTaxiDaily2019.loc[dfTaxiDaily2019['DOW']<4]['trip_count'])"
   ]
  },
  {
   "cell_type": "code",
   "execution_count": 23,
   "metadata": {},
   "outputs": [
    {
     "data": {
      "text/plain": [
       "Ks_2sampResult(statistic=0.22188995215311005, pvalue=0.001823856491109277)"
      ]
     },
     "execution_count": 23,
     "metadata": {},
     "output_type": "execute_result"
    }
   ],
   "source": [
    "# Monday is 0, Sunday is 6; weekends: DOW>4, weekdays: DOW<4\n",
    "# KS-test\n",
    "stats.ks_2samp(dfTaxiDaily2019.loc[dfTaxiDaily2019['DOW']>4]['trip_count'],\n",
    "                dfTaxiDaily2019.loc[dfTaxiDaily2019['DOW']<4]['trip_count'])"
   ]
  },
  {
   "cell_type": "markdown",
   "metadata": {},
   "source": [
    "Reject the hypothesis that weekends and weekdays follow the same ridership distribution at 95\\% significance level"
   ]
  },
  {
   "cell_type": "markdown",
   "metadata": {},
   "source": [
    "## Example 2. Test if trip speed, duration or distance follow log-normal distributions"
   ]
  },
  {
   "cell_type": "code",
   "execution_count": 24,
   "metadata": {},
   "outputs": [
    {
     "data": {
      "text/plain": [
       "<matplotlib.axes._subplots.AxesSubplot at 0x1a4bf24ad0>"
      ]
     },
     "execution_count": 24,
     "metadata": {},
     "output_type": "execute_result"
    },
    {
     "data": {
      "image/png": "[encoded data removed]",
      "text/plain": [
       "<Figure size 432x288 with 1 Axes>"
      ]
     },
     "metadata": {
      "needs_background": "light"
     },
     "output_type": "display_data"
    }
   ],
   "source": [
    "#analyze the overall speed distribution (plot on log-scale)\n",
    "np.log(dfTaxi2019['speed']).hist(bins=100)"
   ]
  },
  {
   "cell_type": "code",
   "execution_count": 25,
   "metadata": {},
   "outputs": [
    {
     "data": {
      "text/plain": [
       "<matplotlib.axes._subplots.AxesSubplot at 0x1a4d414590>"
      ]
     },
     "execution_count": 25,
     "metadata": {},
     "output_type": "execute_result"
    },
    {
     "data": {
      "image/png": "[encoded data removed]",
      "text/plain": [
       "<Figure size 432x288 with 1 Axes>"
      ]
     },
     "metadata": {
      "needs_background": "light"
     },
     "output_type": "display_data"
    }
   ],
   "source": [
    "#analyze the overall duration distribution (plot on log-scale)\n",
    "np.log(dfTaxi2019['trip_duration']).hist(bins=100)"
   ]
  },
  {
   "cell_type": "code",
   "execution_count": 26,
   "metadata": {},
   "outputs": [
    {
     "data": {
      "text/plain": [
       "<matplotlib.axes._subplots.AxesSubplot at 0x1a4d5ff510>"
      ]
     },
     "execution_count": 26,
     "metadata": {},
     "output_type": "execute_result"
    },
    {
     "data": {
      "image/png": "[encoded data removed]",
      "text/plain": [
       "<Figure size 432x288 with 1 Axes>"
      ]
     },
     "metadata": {
      "needs_background": "light"
     },
     "output_type": "display_data"
    }
   ],
   "source": [
    "#analyze the overall duration distribution (plot on log-scale)\n",
    "np.log(dfTaxi2019['trip_distance']).hist(bins=100)"
   ]
  },
  {
   "cell_type": "code",
   "execution_count": 27,
   "metadata": {},
   "outputs": [],
   "source": [
    "def is_normal(x): #check is the distribution is normal using one-sample KS test and sample mean-std\n",
    "    return stats.kstest(x,'norm',args=(x.mean(),x.std()))"
   ]
  },
  {
   "cell_type": "code",
   "execution_count": 28,
   "metadata": {},
   "outputs": [
    {
     "data": {
      "text/plain": [
       "KstestResult(statistic=0.040518371390364294, pvalue=0.0)"
      ]
     },
     "execution_count": 28,
     "metadata": {},
     "output_type": "execute_result"
    }
   ],
   "source": [
    "# is log-speed normally distributed?\n",
    "is_normal(np.log(dfTaxi2019['speed']))"
   ]
  },
  {
   "cell_type": "code",
   "execution_count": 29,
   "metadata": {},
   "outputs": [
    {
     "data": {
      "text/plain": [
       "KstestResult(statistic=0.006451584004767197, pvalue=5.080860790642271e-210)"
      ]
     },
     "execution_count": 29,
     "metadata": {},
     "output_type": "execute_result"
    }
   ],
   "source": [
    "# is log-duration normally distributed?\n",
    "is_normal(np.log(dfTaxi2019['trip_duration']))"
   ]
  },
  {
   "cell_type": "code",
   "execution_count": 30,
   "metadata": {},
   "outputs": [
    {
     "data": {
      "text/plain": [
       "KstestResult(statistic=0.03730364171588013, pvalue=0.0)"
      ]
     },
     "execution_count": 30,
     "metadata": {},
     "output_type": "execute_result"
    }
   ],
   "source": [
    "# is log-distance normally distributed?\n",
    "is_normal(np.log(dfTaxi2019['trip_distance']))"
   ]
  },
  {
   "cell_type": "code",
   "execution_count": 31,
   "metadata": {},
   "outputs": [],
   "source": [
    "#so none of those quantities have log-normal distribution (rejecting with 99.9999...% confidence)"
   ]
  },
  {
   "cell_type": "code",
   "execution_count": 32,
   "metadata": {},
   "outputs": [],
   "source": [
    "#what about daily average trip_count, duration, distance, speed?"
   ]
  },
  {
   "cell_type": "code",
   "execution_count": 33,
   "metadata": {},
   "outputs": [
    {
     "data": {
      "text/plain": [
       "KstestResult(statistic=0.09130133668490537, pvalue=0.004250604464942299)"
      ]
     },
     "execution_count": 33,
     "metadata": {},
     "output_type": "execute_result"
    }
   ],
   "source": [
    "is_normal(dfTaxiDaily2019['trip_count']) #does not look normal"
   ]
  },
  {
   "cell_type": "code",
   "execution_count": 34,
   "metadata": {},
   "outputs": [
    {
     "data": {
      "text/plain": [
       "<matplotlib.legend.Legend at 0x1a4b925fd0>"
      ]
     },
     "execution_count": 34,
     "metadata": {},
     "output_type": "execute_result"
    },
    {
     "data": {
      "image/png": "[encoded data removed]",
      "text/plain": [
       "<Figure size 432x288 with 1 Axes>"
      ]
     },
     "metadata": {
      "needs_background": "light"
     },
     "output_type": "display_data"
    }
   ],
   "source": [
    "#visualize empiric CDF's for trip-counts\n",
    "plt.hist(dfTaxiDaily2019['trip_count'].values, 50, density=True, \n",
    "         histtype='step',cumulative=True,label='trip count')\n",
    "plt.hist(np.random.normal(dfTaxiDaily2019['trip_count'].mean(), dfTaxiDaily2019['trip_count'].std(),\n",
    "                          len(dfTaxiDaily2019)), 50, density=True, \n",
    "         histtype='step',cumulative=True,label='same mean and std in gaussian distribution')\n",
    "plt.legend(loc='upper left')"
   ]
  },
  {
   "cell_type": "code",
   "execution_count": 35,
   "metadata": {},
   "outputs": [
    {
     "data": {
      "text/plain": [
       "KstestResult(statistic=0.06338499338725434, pvalue=0.10199069022894074)"
      ]
     },
     "execution_count": 35,
     "metadata": {},
     "output_type": "execute_result"
    }
   ],
   "source": [
    "is_normal(np.log(dfTaxiDaily2019['trip_count'])) #but might be log-normal"
   ]
  },
  {
   "cell_type": "code",
   "execution_count": 36,
   "metadata": {},
   "outputs": [
    {
     "data": {
      "text/plain": [
       "<matplotlib.legend.Legend at 0x1a4d893f90>"
      ]
     },
     "execution_count": 36,
     "metadata": {},
     "output_type": "execute_result"
    },
    {
     "data": {
      "image/png": "[encoded data removed]",
      "text/plain": [
       "<Figure size 432x288 with 1 Axes>"
      ]
     },
     "metadata": {
      "needs_background": "light"
     },
     "output_type": "display_data"
    }
   ],
   "source": [
    "#visualize empiric CDF's for log trip-counts\n",
    "plt.hist(np.log(dfTaxiDaily2019['trip_count'].values), 50, density=True, \n",
    "         histtype='step',cumulative=True,label='log trip count')\n",
    "plt.hist(np.random.normal(np.log(dfTaxiDaily2019['trip_count']).mean(), np.log(dfTaxiDaily2019['trip_count']).std(),\n",
    "                          len(dfTaxiDaily2019)), 50, density=True, \n",
    "         histtype='step',cumulative=True,label='same mean and std in gaussian distribution')\n",
    "plt.legend(loc='upper left')"
   ]
  },
  {
   "cell_type": "code",
   "execution_count": 37,
   "metadata": {},
   "outputs": [
    {
     "data": {
      "text/plain": [
       "KstestResult(statistic=0.04874594434156132, pvalue=0.3416989433151879)"
      ]
     },
     "execution_count": 37,
     "metadata": {},
     "output_type": "execute_result"
    }
   ],
   "source": [
    "is_normal(dfTaxiDaily2019['trip_duration']) #could be normal"
   ]
  },
  {
   "cell_type": "code",
   "execution_count": 38,
   "metadata": {},
   "outputs": [
    {
     "data": {
      "text/plain": [
       "<matplotlib.axes._subplots.AxesSubplot at 0x1a4c731950>"
      ]
     },
     "execution_count": 38,
     "metadata": {},
     "output_type": "execute_result"
    },
    {
     "data": {
      "image/png": "[encoded data removed]",
      "text/plain": [
       "<Figure size 432x288 with 1 Axes>"
      ]
     },
     "metadata": {
      "needs_background": "light"
     },
     "output_type": "display_data"
    }
   ],
   "source": [
    "dfTaxiDaily2019['trip_duration'].hist(bins=8)"
   ]
  },
  {
   "cell_type": "code",
   "execution_count": 39,
   "metadata": {},
   "outputs": [
    {
     "data": {
      "text/plain": [
       "<matplotlib.legend.Legend at 0x1a4ce915d0>"
      ]
     },
     "execution_count": 39,
     "metadata": {},
     "output_type": "execute_result"
    },
    {
     "data": {
      "image/png": "[encoded data removed]",
      "text/plain": [
       "<Figure size 432x288 with 1 Axes>"
      ]
     },
     "metadata": {
      "needs_background": "light"
     },
     "output_type": "display_data"
    }
   ],
   "source": [
    "_ = plt.hist(dfTaxiDaily2019['trip_duration'].values, 50, density=True, \n",
    "         histtype='step',cumulative=True,label='trip duration')\n",
    "_ = plt.hist(np.random.normal(dfTaxiDaily2019['trip_duration'].mean(), \n",
    "                              dfTaxiDaily2019['trip_duration'].std(),\n",
    "                          len(dfTaxiDaily2019)), 50, density=True, \n",
    "         histtype='step',cumulative=True,label='same mean and std \\nin gaussian distribution')\n",
    "plt.legend(loc='upper left')"
   ]
  },
  {
   "cell_type": "code",
   "execution_count": 40,
   "metadata": {},
   "outputs": [
    {
     "data": {
      "text/plain": [
       "KstestResult(statistic=0.10293939455876078, pvalue=0.0008049522811456512)"
      ]
     },
     "execution_count": 40,
     "metadata": {},
     "output_type": "execute_result"
    }
   ],
   "source": [
    "is_normal(dfTaxiDaily2019['trip_distance']) #does not look normal"
   ]
  },
  {
   "cell_type": "code",
   "execution_count": 41,
   "metadata": {},
   "outputs": [
    {
     "data": {
      "text/plain": [
       "KstestResult(statistic=0.06677986532907287, pvalue=0.07367146283433422)"
      ]
     },
     "execution_count": 41,
     "metadata": {},
     "output_type": "execute_result"
    }
   ],
   "source": [
    "is_normal(np.log(dfTaxiDaily2019['trip_distance'])) #but might be log-normal"
   ]
  },
  {
   "cell_type": "code",
   "execution_count": 42,
   "metadata": {},
   "outputs": [
    {
     "data": {
      "text/plain": [
       "KstestResult(statistic=0.0683576711671553, pvalue=0.0629717636318335)"
      ]
     },
     "execution_count": 42,
     "metadata": {},
     "output_type": "execute_result"
    }
   ],
   "source": [
    "is_normal(dfTaxiDaily2019['speed']) #might be normal"
   ]
  },
  {
   "cell_type": "code",
   "execution_count": 43,
   "metadata": {},
   "outputs": [
    {
     "data": {
      "text/plain": [
       "KstestResult(statistic=0.060066857847081156, pvalue=0.13789000584955083)"
      ]
     },
     "execution_count": 43,
     "metadata": {},
     "output_type": "execute_result"
    }
   ],
   "source": [
    "is_normal(np.log(dfTaxiDaily2019['speed'])) #log-normal even more likely"
   ]
  },
  {
   "cell_type": "markdown",
   "metadata": {},
   "source": [
    "## Homework assignment"
   ]
  },
  {
   "cell_type": "markdown",
   "metadata": {},
   "source": [
    "## Task 1. Travel speed - hours of the day\n",
    "Traffic and travel speed might vary throughout the day. Select the trips happening on Oct, 1, 2019. a) Compute average travel speed per each hour of the day and visuale as a bar plot. Compare the speed distributions for: b) trip samples within an hour of 9am (Hour=9) and an hour of 10am, c) morning rush hour (two hours of 8 and 9am) and evening rush hour (two hours of 5pm(17) and 6pm(18)). Can you reject the hypothesis that the compared speed samples have the same mean(use t-test) and distribution (use ks-test) at a 95\\% significance level?"
   ]
  },
  {
   "cell_type": "code",
   "execution_count": 44,
   "metadata": {},
   "outputs": [
    {
     "data": {
      "text/plain": [
       "13579"
      ]
     },
     "execution_count": 44,
     "metadata": {},
     "output_type": "execute_result"
    }
   ],
   "source": [
    "dfTaxiSample = dfTaxi2019.loc [ dfTaxi2019['Date'] == pd.to_datetime('Oct, 1, 2019') ]\n",
    "len(dfTaxiSample)"
   ]
  },
  {
   "cell_type": "code",
   "execution_count": 45,
   "metadata": {},
   "outputs": [],
   "source": [
    "dfTaxiSample['daytime'] = 0\n",
    "dfTaxiSample.loc[dfTaxi2019['Hour'].between(6,18),'daytime'] = 1"
   ]
  },
  {
   "cell_type": "code",
   "execution_count": 46,
   "metadata": {},
   "outputs": [],
   "source": [
    "dfTaxiSampleHourly = dfTaxiSample.groupby(['Hour']).agg({'trip_distance':'sum','trip_duration':'sum'})\n",
    "dfTaxiSampleHourly['speed'] = dfTaxiSampleHourly['trip_distance'] / (dfTaxiSampleHourly['trip_duration'] / 60)"
   ]
  },
  {
   "cell_type": "code",
   "execution_count": 48,
   "metadata": {},
   "outputs": [
    {
     "data": {
      "image/png": "[encoded data removed]",
      "text/plain": [
       "<Figure size 432x288 with 1 Axes>"
      ]
     },
     "metadata": {
      "needs_background": "light"
     },
     "output_type": "display_data"
    }
   ],
   "source": [
    "##SS crashes here replaced by hourly\n",
    "p = plt.bar(dfTaxiSampleHourly.index,dfTaxiSampleHourly['speed'])"
   ]
  },
  {
   "cell_type": "code",
   "execution_count": 49,
   "metadata": {},
   "outputs": [
    {
     "data": {
      "text/plain": [
       "Ttest_indResult(statistic=-1.173277394807621, pvalue=0.2408567402829922)"
      ]
     },
     "execution_count": 49,
     "metadata": {},
     "output_type": "execute_result"
    }
   ],
   "source": [
    "stats.ttest_ind(dfTaxiSample.loc[dfTaxiSample['Hour'].between(9,9)]['speed'],\n",
    "                dfTaxiSample.loc[dfTaxiSample['Hour'].between(10,10)]['speed'])"
   ]
  },
  {
   "cell_type": "code",
   "execution_count": 50,
   "metadata": {},
   "outputs": [
    {
     "data": {
      "text/plain": [
       "Ks_2sampResult(statistic=0.04866545344252351, pvalue=0.2793212653142775)"
      ]
     },
     "execution_count": 50,
     "metadata": {},
     "output_type": "execute_result"
    }
   ],
   "source": [
    "stats.ks_2samp(dfTaxiSample.loc[dfTaxiSample['Hour'].between(9,9)]['speed'],\n",
    "                dfTaxiSample.loc[dfTaxiSample['Hour'].between(10,10)]['speed'])"
   ]
  },
  {
   "cell_type": "code",
   "execution_count": 51,
   "metadata": {},
   "outputs": [
    {
     "data": {
      "text/plain": [
       "Ttest_indResult(statistic=4.398437926509444, pvalue=1.1225893586594122e-05)"
      ]
     },
     "execution_count": 51,
     "metadata": {},
     "output_type": "execute_result"
    }
   ],
   "source": [
    "stats.ttest_ind(np.log(dfTaxiSample.loc[dfTaxiSample['Hour'].between(8,9)]['speed']),\n",
    "                np.log(dfTaxiSample.loc[dfTaxiSample['Hour'].between(17,18)]['speed']))"
   ]
  },
  {
   "cell_type": "code",
   "execution_count": 52,
   "metadata": {},
   "outputs": [
    {
     "data": {
      "text/plain": [
       "Ks_2sampResult(statistic=0.06860517517057287, pvalue=0.0005164093592924246)"
      ]
     },
     "execution_count": 52,
     "metadata": {},
     "output_type": "execute_result"
    }
   ],
   "source": [
    "stats.ks_2samp((dfTaxiSample.loc[dfTaxiSample['Hour'].between(8,9)]['speed']),\n",
    "                (dfTaxiSample.loc[dfTaxiSample['Hour'].between(17,18)]['speed']))"
   ]
  },
  {
   "cell_type": "markdown",
   "metadata": {},
   "source": [
    "## Task 2. Travel speed - days of the week\n",
    "Traffic and travel speed also vary during different weekdays. a) Compute average travel speed per each of the 7 days of the week (among all the individual trips happening on Mondays, Tuesdays, Wednesdays etc); visualize those as a bar plot. Then compute average travel speed per each day of the year and perform a pairwise comparison between the distributions of the daily speed averages within different days of the week (i.e. distribution of all Mondays vs all Tuesdays etc). Compute p-value of the ks-test for each pair of the different weekdays and compare with 5\\%. As a results we are expecting a 7*7 pandas dataframe filled with \"reject\" (if p-value below 5\\%), \"keep\" (if p-value above 5\\%) and \"-\" on the diagonal."
   ]
  },
  {
   "cell_type": "code",
   "execution_count": 53,
   "metadata": {},
   "outputs": [
    {
     "data": {
      "text/html": [
       "<div>\n",
       "<style scoped>\n",
       "    .dataframe tbody tr th:only-of-type {\n",
       "        vertical-align: middle;\n",
       "    }\n",
       "\n",
       "    .dataframe tbody tr th {\n",
       "        vertical-align: top;\n",
       "    }\n",
       "\n",
       "    .dataframe thead th {\n",
       "        text-align: right;\n",
       "    }\n",
       "</style>\n",
       "<table border=\"1\" class=\"dataframe\">\n",
       "  <thead>\n",
       "    <tr style=\"text-align: right;\">\n",
       "      <th></th>\n",
       "      <th>Year</th>\n",
       "      <th>Month</th>\n",
       "      <th>DOW</th>\n",
       "      <th>Date</th>\n",
       "      <th>trip_count</th>\n",
       "      <th>trip_duration</th>\n",
       "      <th>trip_distance</th>\n",
       "      <th>speed</th>\n",
       "    </tr>\n",
       "  </thead>\n",
       "  <tbody>\n",
       "    <tr>\n",
       "      <td>369</td>\n",
       "      <td>2019</td>\n",
       "      <td>1</td>\n",
       "      <td>1</td>\n",
       "      <td>2019-01-01</td>\n",
       "      <td>14390</td>\n",
       "      <td>192711.466667</td>\n",
       "      <td>53902.06</td>\n",
       "      <td>16.782206</td>\n",
       "    </tr>\n",
       "    <tr>\n",
       "      <td>374</td>\n",
       "      <td>2019</td>\n",
       "      <td>1</td>\n",
       "      <td>2</td>\n",
       "      <td>2019-01-02</td>\n",
       "      <td>18006</td>\n",
       "      <td>271243.283333</td>\n",
       "      <td>65946.40</td>\n",
       "      <td>14.587583</td>\n",
       "    </tr>\n",
       "    <tr>\n",
       "      <td>379</td>\n",
       "      <td>2019</td>\n",
       "      <td>1</td>\n",
       "      <td>3</td>\n",
       "      <td>2019-01-03</td>\n",
       "      <td>19864</td>\n",
       "      <td>309704.316667</td>\n",
       "      <td>72163.08</td>\n",
       "      <td>13.980382</td>\n",
       "    </tr>\n",
       "    <tr>\n",
       "      <td>384</td>\n",
       "      <td>2019</td>\n",
       "      <td>1</td>\n",
       "      <td>4</td>\n",
       "      <td>2019-01-04</td>\n",
       "      <td>21004</td>\n",
       "      <td>319137.216667</td>\n",
       "      <td>74342.63</td>\n",
       "      <td>13.976928</td>\n",
       "    </tr>\n",
       "    <tr>\n",
       "      <td>388</td>\n",
       "      <td>2019</td>\n",
       "      <td>1</td>\n",
       "      <td>5</td>\n",
       "      <td>2019-01-05</td>\n",
       "      <td>19386</td>\n",
       "      <td>258513.416667</td>\n",
       "      <td>63392.53</td>\n",
       "      <td>14.713170</td>\n",
       "    </tr>\n",
       "  </tbody>\n",
       "</table>\n",
       "</div>"
      ],
      "text/plain": [
       "     Year  Month  DOW        Date  trip_count  trip_duration  trip_distance  \\\n",
       "369  2019      1    1  2019-01-01       14390  192711.466667       53902.06   \n",
       "374  2019      1    2  2019-01-02       18006  271243.283333       65946.40   \n",
       "379  2019      1    3  2019-01-03       19864  309704.316667       72163.08   \n",
       "384  2019      1    4  2019-01-04       21004  319137.216667       74342.63   \n",
       "388  2019      1    5  2019-01-05       19386  258513.416667       63392.53   \n",
       "\n",
       "         speed  \n",
       "369  16.782206  \n",
       "374  14.587583  \n",
       "379  13.980382  \n",
       "384  13.976928  \n",
       "388  14.713170  "
      ]
     },
     "execution_count": 53,
     "metadata": {},
     "output_type": "execute_result"
    }
   ],
   "source": [
    "dfTaxiDaily2019['speed'] = dfTaxiDaily2019['trip_distance'] / (dfTaxiDaily2019['trip_duration'] / 60)\n",
    "dfTaxiDaily2019.head()"
   ]
  },
  {
   "cell_type": "code",
   "execution_count": 54,
   "metadata": {},
   "outputs": [
    {
     "data": {
      "image/png": "[encoded data removed]",
      "text/plain": [
       "<Figure size 432x288 with 1 Axes>"
      ]
     },
     "metadata": {
      "needs_background": "light"
     },
     "output_type": "display_data"
    }
   ],
   "source": [
    "dfTaxiSampleDOW = dfTaxiDaily2019.groupby(['DOW']).agg({'trip_distance':'sum','trip_duration':'sum'})\n",
    "dfTaxiSampleDOW['speed'] = dfTaxiSampleDOW['trip_distance'] / (dfTaxiSampleDOW['trip_duration'] / 60)\n",
    "p = plt.bar(dfTaxiSampleDOW.index,dfTaxiSampleDOW['speed'])"
   ]
  },
  {
   "cell_type": "code",
   "execution_count": 55,
   "metadata": {},
   "outputs": [],
   "source": [
    "p = pd.DataFrame([[stats.ks_2samp(dfTaxiDaily2019.loc[dfTaxiDaily2019['DOW']==d1]['speed'],\n",
    "                               dfTaxiDaily2019.loc[dfTaxiDaily2019['DOW']==d2]['speed']).\\\n",
    "               pvalue for d1 in range (0,7)] for d2 in range (0,7)]) <= 0.05"
   ]
  },
  {
   "cell_type": "code",
   "execution_count": 56,
   "metadata": {},
   "outputs": [
    {
     "data": {
      "text/html": [
       "<div>\n",
       "<style scoped>\n",
       "    .dataframe tbody tr th:only-of-type {\n",
       "        vertical-align: middle;\n",
       "    }\n",
       "\n",
       "    .dataframe tbody tr th {\n",
       "        vertical-align: top;\n",
       "    }\n",
       "\n",
       "    .dataframe thead th {\n",
       "        text-align: right;\n",
       "    }\n",
       "</style>\n",
       "<table border=\"1\" class=\"dataframe\">\n",
       "  <thead>\n",
       "    <tr style=\"text-align: right;\">\n",
       "      <th></th>\n",
       "      <th>0</th>\n",
       "      <th>1</th>\n",
       "      <th>2</th>\n",
       "      <th>3</th>\n",
       "      <th>4</th>\n",
       "      <th>5</th>\n",
       "      <th>6</th>\n",
       "    </tr>\n",
       "  </thead>\n",
       "  <tbody>\n",
       "    <tr>\n",
       "      <td>0</td>\n",
       "      <td>-</td>\n",
       "      <td>Keep</td>\n",
       "      <td>Reject</td>\n",
       "      <td>Reject</td>\n",
       "      <td>Reject</td>\n",
       "      <td>Reject</td>\n",
       "      <td>Reject</td>\n",
       "    </tr>\n",
       "    <tr>\n",
       "      <td>1</td>\n",
       "      <td>Keep</td>\n",
       "      <td>-</td>\n",
       "      <td>Reject</td>\n",
       "      <td>Reject</td>\n",
       "      <td>Reject</td>\n",
       "      <td>Reject</td>\n",
       "      <td>Reject</td>\n",
       "    </tr>\n",
       "    <tr>\n",
       "      <td>2</td>\n",
       "      <td>Reject</td>\n",
       "      <td>Reject</td>\n",
       "      <td>-</td>\n",
       "      <td>Reject</td>\n",
       "      <td>Keep</td>\n",
       "      <td>Reject</td>\n",
       "      <td>Reject</td>\n",
       "    </tr>\n",
       "    <tr>\n",
       "      <td>3</td>\n",
       "      <td>Reject</td>\n",
       "      <td>Reject</td>\n",
       "      <td>Reject</td>\n",
       "      <td>-</td>\n",
       "      <td>Keep</td>\n",
       "      <td>Reject</td>\n",
       "      <td>Reject</td>\n",
       "    </tr>\n",
       "    <tr>\n",
       "      <td>4</td>\n",
       "      <td>Reject</td>\n",
       "      <td>Reject</td>\n",
       "      <td>Keep</td>\n",
       "      <td>Keep</td>\n",
       "      <td>-</td>\n",
       "      <td>Reject</td>\n",
       "      <td>Reject</td>\n",
       "    </tr>\n",
       "    <tr>\n",
       "      <td>5</td>\n",
       "      <td>Reject</td>\n",
       "      <td>Reject</td>\n",
       "      <td>Reject</td>\n",
       "      <td>Reject</td>\n",
       "      <td>Reject</td>\n",
       "      <td>-</td>\n",
       "      <td>Reject</td>\n",
       "    </tr>\n",
       "    <tr>\n",
       "      <td>6</td>\n",
       "      <td>Reject</td>\n",
       "      <td>Reject</td>\n",
       "      <td>Reject</td>\n",
       "      <td>Reject</td>\n",
       "      <td>Reject</td>\n",
       "      <td>Reject</td>\n",
       "      <td>-</td>\n",
       "    </tr>\n",
       "  </tbody>\n",
       "</table>\n",
       "</div>"
      ],
      "text/plain": [
       "        0       1       2       3       4       5       6\n",
       "0       -    Keep  Reject  Reject  Reject  Reject  Reject\n",
       "1    Keep       -  Reject  Reject  Reject  Reject  Reject\n",
       "2  Reject  Reject       -  Reject    Keep  Reject  Reject\n",
       "3  Reject  Reject  Reject       -    Keep  Reject  Reject\n",
       "4  Reject  Reject    Keep    Keep       -  Reject  Reject\n",
       "5  Reject  Reject  Reject  Reject  Reject       -  Reject\n",
       "6  Reject  Reject  Reject  Reject  Reject  Reject       -"
      ]
     },
     "execution_count": 56,
     "metadata": {},
     "output_type": "execute_result"
    }
   ],
   "source": [
    "p = ((p + 1) * (1 - np.eye(7))).replace(1,'Keep').replace(2,'Reject').replace(0,'-')\n",
    "p"
   ]
  },
  {
   "cell_type": "markdown",
   "metadata": {},
   "source": [
    "## Task 3. Trip speeds per borough.\n",
    "\n",
    "For the day of Oct, 1, 2019 compute the average trip speed in Brooklyn, Queens and Bronx (by pickup). Then compare the samples of the trip speeds in Brooklyn, Queens and Bronx on that day using t-test and ks-test (pairwise comparison). Fill two 3x3 pandas dataframes (one for t-test, one for ks-test) with p-values for each pair of boroughs. Can we reject the null hypothesis that speed mean/distributions within each pair of boroughs is is similar?\n",
    "\n",
    "HINT: Download taxizone geojson from 'https://data.cityofnewyork.us/api/geospatial/d3c5-ddgc?method=export&format=GeoJSON' to define borough for each pickup taxi zone."
   ]
  },
  {
   "cell_type": "code",
   "execution_count": 57,
   "metadata": {},
   "outputs": [
    {
     "data": {
      "text/plain": [
       "('Data/TLC/taxizone.geojson', <http.client.HTTPMessage at 0x1a4d8bdb10>)"
      ]
     },
     "execution_count": 57,
     "metadata": {},
     "output_type": "execute_result"
    }
   ],
   "source": [
    "# download taxizone map\n",
    "file = 'taxizone.geojson'\n",
    "url = 'https://data.cityofnewyork.us/api/geospatial/d3c5-ddgc?method=export&format=GeoJSON'\n",
    "urllib.request.urlretrieve(url,'Data/TLC/'+file)"
   ]
  },
  {
   "cell_type": "code",
   "execution_count": 58,
   "metadata": {},
   "outputs": [
    {
     "data": {
      "text/html": [
       "<div>\n",
       "<style scoped>\n",
       "    .dataframe tbody tr th:only-of-type {\n",
       "        vertical-align: middle;\n",
       "    }\n",
       "\n",
       "    .dataframe tbody tr th {\n",
       "        vertical-align: top;\n",
       "    }\n",
       "\n",
       "    .dataframe thead th {\n",
       "        text-align: right;\n",
       "    }\n",
       "</style>\n",
       "<table border=\"1\" class=\"dataframe\">\n",
       "  <thead>\n",
       "    <tr style=\"text-align: right;\">\n",
       "      <th></th>\n",
       "      <th>shape_area</th>\n",
       "      <th>objectid</th>\n",
       "      <th>shape_leng</th>\n",
       "      <th>location_id</th>\n",
       "      <th>zone</th>\n",
       "      <th>borough</th>\n",
       "      <th>geometry</th>\n",
       "    </tr>\n",
       "  </thead>\n",
       "  <tbody>\n",
       "    <tr>\n",
       "      <td>0</td>\n",
       "      <td>0.0007823067885</td>\n",
       "      <td>1</td>\n",
       "      <td>0.116357453189</td>\n",
       "      <td>1</td>\n",
       "      <td>Newark Airport</td>\n",
       "      <td>EWR</td>\n",
       "      <td>MULTIPOLYGON (((-74.18445 40.69500, -74.18449 ...</td>\n",
       "    </tr>\n",
       "    <tr>\n",
       "      <td>1</td>\n",
       "      <td>0.00486634037837</td>\n",
       "      <td>2</td>\n",
       "      <td>0.43346966679</td>\n",
       "      <td>2</td>\n",
       "      <td>Jamaica Bay</td>\n",
       "      <td>Queens</td>\n",
       "      <td>MULTIPOLYGON (((-73.82338 40.63899, -73.82277 ...</td>\n",
       "    </tr>\n",
       "    <tr>\n",
       "      <td>2</td>\n",
       "      <td>0.000314414156821</td>\n",
       "      <td>3</td>\n",
       "      <td>0.0843411059012</td>\n",
       "      <td>3</td>\n",
       "      <td>Allerton/Pelham Gardens</td>\n",
       "      <td>Bronx</td>\n",
       "      <td>MULTIPOLYGON (((-73.84793 40.87134, -73.84725 ...</td>\n",
       "    </tr>\n",
       "    <tr>\n",
       "      <td>3</td>\n",
       "      <td>0.000111871946192</td>\n",
       "      <td>4</td>\n",
       "      <td>0.0435665270921</td>\n",
       "      <td>4</td>\n",
       "      <td>Alphabet City</td>\n",
       "      <td>Manhattan</td>\n",
       "      <td>MULTIPOLYGON (((-73.97177 40.72582, -73.97179 ...</td>\n",
       "    </tr>\n",
       "    <tr>\n",
       "      <td>4</td>\n",
       "      <td>0.000497957489363</td>\n",
       "      <td>5</td>\n",
       "      <td>0.0921464898574</td>\n",
       "      <td>5</td>\n",
       "      <td>Arden Heights</td>\n",
       "      <td>Staten Island</td>\n",
       "      <td>MULTIPOLYGON (((-74.17422 40.56257, -74.17349 ...</td>\n",
       "    </tr>\n",
       "  </tbody>\n",
       "</table>\n",
       "</div>"
      ],
      "text/plain": [
       "          shape_area objectid       shape_leng location_id  \\\n",
       "0    0.0007823067885        1   0.116357453189           1   \n",
       "1   0.00486634037837        2    0.43346966679           2   \n",
       "2  0.000314414156821        3  0.0843411059012           3   \n",
       "3  0.000111871946192        4  0.0435665270921           4   \n",
       "4  0.000497957489363        5  0.0921464898574           5   \n",
       "\n",
       "                      zone        borough  \\\n",
       "0           Newark Airport            EWR   \n",
       "1              Jamaica Bay         Queens   \n",
       "2  Allerton/Pelham Gardens          Bronx   \n",
       "3            Alphabet City      Manhattan   \n",
       "4            Arden Heights  Staten Island   \n",
       "\n",
       "                                            geometry  \n",
       "0  MULTIPOLYGON (((-74.18445 40.69500, -74.18449 ...  \n",
       "1  MULTIPOLYGON (((-73.82338 40.63899, -73.82277 ...  \n",
       "2  MULTIPOLYGON (((-73.84793 40.87134, -73.84725 ...  \n",
       "3  MULTIPOLYGON (((-73.97177 40.72582, -73.97179 ...  \n",
       "4  MULTIPOLYGON (((-74.17422 40.56257, -74.17349 ...  "
      ]
     },
     "execution_count": 58,
     "metadata": {},
     "output_type": "execute_result"
    }
   ],
   "source": [
    "taxizone = gpd.read_file('Data/TLC/taxizone.geojson')\n",
    "taxizone.head()"
   ]
  },
  {
   "cell_type": "code",
   "execution_count": 59,
   "metadata": {},
   "outputs": [],
   "source": [
    "zonetoBoro = pd.Series(taxizone.borough.values,index=taxizone.location_id).to_dict()\n",
    "dfTaxiSample['PUZone'] = dfTaxiSample.PULocationID.apply(lambda x:zonetoBoro[str(x)] if str(x) in zonetoBoro else 'None')\n",
    "dfTaxiSample['DOZone'] = dfTaxiSample.DOLocationID.apply(lambda x:zonetoBoro[str(x)] if str(x) in zonetoBoro else 'None')"
   ]
  },
  {
   "cell_type": "code",
   "execution_count": 60,
   "metadata": {},
   "outputs": [
    {
     "data": {
      "text/html": [
       "<div>\n",
       "<style scoped>\n",
       "    .dataframe tbody tr th:only-of-type {\n",
       "        vertical-align: middle;\n",
       "    }\n",
       "\n",
       "    .dataframe tbody tr th {\n",
       "        vertical-align: top;\n",
       "    }\n",
       "\n",
       "    .dataframe thead th {\n",
       "        text-align: right;\n",
       "    }\n",
       "</style>\n",
       "<table border=\"1\" class=\"dataframe\">\n",
       "  <thead>\n",
       "    <tr style=\"text-align: right;\">\n",
       "      <th></th>\n",
       "      <th>Brooklyn</th>\n",
       "      <th>Queens</th>\n",
       "      <th>Bronx</th>\n",
       "    </tr>\n",
       "  </thead>\n",
       "  <tbody>\n",
       "    <tr>\n",
       "      <td>Brooklyn</td>\n",
       "      <td>1.000000e+00</td>\n",
       "      <td>1.879582e-15</td>\n",
       "      <td>3.834652e-36</td>\n",
       "    </tr>\n",
       "    <tr>\n",
       "      <td>Queens</td>\n",
       "      <td>1.879582e-15</td>\n",
       "      <td>1.000000e+00</td>\n",
       "      <td>5.891792e-12</td>\n",
       "    </tr>\n",
       "    <tr>\n",
       "      <td>Bronx</td>\n",
       "      <td>3.834652e-36</td>\n",
       "      <td>5.891792e-12</td>\n",
       "      <td>1.000000e+00</td>\n",
       "    </tr>\n",
       "  </tbody>\n",
       "</table>\n",
       "</div>"
      ],
      "text/plain": [
       "              Brooklyn        Queens         Bronx\n",
       "Brooklyn  1.000000e+00  1.879582e-15  3.834652e-36\n",
       "Queens    1.879582e-15  1.000000e+00  5.891792e-12\n",
       "Bronx     3.834652e-36  5.891792e-12  1.000000e+00"
      ]
     },
     "execution_count": 60,
     "metadata": {},
     "output_type": "execute_result"
    }
   ],
   "source": [
    "p = pd.DataFrame([[stats.ttest_ind(dfTaxiSample.loc[dfTaxiSample['PUZone']==b1]['speed'],\n",
    "                               dfTaxiSample.loc[dfTaxiSample['PUZone']==b2]['speed']).\\\n",
    "               pvalue for b1 in ['Brooklyn','Queens','Bronx']] for b2 in ['Brooklyn','Queens','Bronx']],\n",
    "                 columns = ['Brooklyn','Queens','Bronx'],index = ['Brooklyn','Queens','Bronx'],)\n",
    "p"
   ]
  },
  {
   "cell_type": "code",
   "execution_count": 61,
   "metadata": {},
   "outputs": [
    {
     "data": {
      "text/html": [
       "<div>\n",
       "<style scoped>\n",
       "    .dataframe tbody tr th:only-of-type {\n",
       "        vertical-align: middle;\n",
       "    }\n",
       "\n",
       "    .dataframe tbody tr th {\n",
       "        vertical-align: top;\n",
       "    }\n",
       "\n",
       "    .dataframe thead th {\n",
       "        text-align: right;\n",
       "    }\n",
       "</style>\n",
       "<table border=\"1\" class=\"dataframe\">\n",
       "  <thead>\n",
       "    <tr style=\"text-align: right;\">\n",
       "      <th></th>\n",
       "      <th>Brooklyn</th>\n",
       "      <th>Queens</th>\n",
       "      <th>Bronx</th>\n",
       "    </tr>\n",
       "  </thead>\n",
       "  <tbody>\n",
       "    <tr>\n",
       "      <td>Brooklyn</td>\n",
       "      <td>1.000000e+00</td>\n",
       "      <td>1.000000e+00</td>\n",
       "      <td>4.073554e-37</td>\n",
       "    </tr>\n",
       "    <tr>\n",
       "      <td>Queens</td>\n",
       "      <td>1.000000e+00</td>\n",
       "      <td>1.000000e+00</td>\n",
       "      <td>4.319099e-13</td>\n",
       "    </tr>\n",
       "    <tr>\n",
       "      <td>Bronx</td>\n",
       "      <td>4.073554e-37</td>\n",
       "      <td>4.319099e-13</td>\n",
       "      <td>1.000000e+00</td>\n",
       "    </tr>\n",
       "  </tbody>\n",
       "</table>\n",
       "</div>"
      ],
      "text/plain": [
       "              Brooklyn        Queens         Bronx\n",
       "Brooklyn  1.000000e+00  1.000000e+00  4.073554e-37\n",
       "Queens    1.000000e+00  1.000000e+00  4.319099e-13\n",
       "Bronx     4.073554e-37  4.319099e-13  1.000000e+00"
      ]
     },
     "execution_count": 61,
     "metadata": {},
     "output_type": "execute_result"
    }
   ],
   "source": [
    "p = pd.DataFrame([[stats.ks_2samp(dfTaxiSample.loc[dfTaxiSample['PUZone']==b1]['speed'],\n",
    "                               dfTaxiSample.loc[dfTaxiSample['PUZone']==b2]['speed']).\\\n",
    "               pvalue for b1 in ['Brooklyn','Queens','Bronx']] for b2 in ['Brooklyn','Queens','Bronx']],\n",
    "                columns = ['Brooklyn','Queens','Bronx'],index = ['Brooklyn','Queens','Bronx'],)\n",
    "p"
   ]
  },
  {
   "cell_type": "code",
   "execution_count": 72,
   "metadata": {},
   "outputs": [
    {
     "data": {
      "text/plain": [
       "Ks_2sampResult(statistic=0.1119625150584084, pvalue=1.0)"
      ]
     },
     "execution_count": 72,
     "metadata": {},
     "output_type": "execute_result"
    }
   ],
   "source": [
    "#you may have noticed that Brooklyn vs Queens ks-test p-value is returned as 1.0. This is clearly wrong\n",
    "#a weird artifact of ks_2samp - sometimes returns p-value 1.0 where it should not; as we see KS-statistics is far from zero\n",
    "#more on this bug here: https://github.com/scipy/scipy/issues/11184\n",
    "stats.ks_2samp(dfTaxiSample.loc[dfTaxiSample['PUZone']=='Queens']['speed'],\n",
    "                               dfTaxiSample.loc[dfTaxiSample['PUZone']=='Brooklyn']['speed'])"
   ]
  },
  {
   "cell_type": "markdown",
   "metadata": {},
   "source": [
    "We can see all borough pairwise comparison p-values pretty low, so all three distributions appear to be statistically different. The t-test p-value between Brooklyn and Queens is somewhat higher but still quite low. Is there a better way to assess how exactly different are the means?"
   ]
  },
  {
   "cell_type": "code",
   "execution_count": 70,
   "metadata": {},
   "outputs": [
    {
     "data": {
      "text/plain": [
       "<matplotlib.legend.Legend at 0x1a50505150>"
      ]
     },
     "execution_count": 70,
     "metadata": {},
     "output_type": "execute_result"
    },
    {
     "data": {
      "image/png": "[encoded data removed]",
      "text/plain": [
       "<Figure size 432x288 with 1 Axes>"
      ]
     },
     "metadata": {
      "needs_background": "light"
     },
     "output_type": "display_data"
    }
   ],
   "source": [
    "## COMPLEMENTARY ANALYSIS (not required in the assignment)\n",
    "#speed distributions in the three boroughs look different indeed\n",
    "plt.hist(dfTaxiSample.loc[dfTaxiSample['PUZone']=='Brooklyn']['speed'],bins=30,density=True,alpha=0.6,label='Brooklyn')\n",
    "plt.hist(dfTaxiSample.loc[dfTaxiSample['PUZone']=='Queens']['speed'],bins=30,density=True,alpha=0.6,label='Queens')\n",
    "plt.hist(dfTaxiSample.loc[dfTaxiSample['PUZone']=='Bronx']['speed'],bins=30,density=True,alpha=0.6,label='Bronx')\n",
    "plt.legend()"
   ]
  },
  {
   "cell_type": "code",
   "execution_count": 76,
   "metadata": {},
   "outputs": [],
   "source": [
    "def mean_ci(x, c=0.95): #returns confidence interval for the sample mean estimate\n",
    "    #assumes t-distribution for the sample mean\n",
    "    return stats.t.interval(c, len(x)-1, loc=np.mean(x), scale=stats.sem(x))"
   ]
  },
  {
   "cell_type": "code",
   "execution_count": 77,
   "metadata": {},
   "outputs": [
    {
     "data": {
      "text/plain": [
       "(12.233187589986466, 12.60894306141701)"
      ]
     },
     "execution_count": 77,
     "metadata": {},
     "output_type": "execute_result"
    }
   ],
   "source": [
    "#estimate for the average speed in Brooklyn\n",
    "#interval where it belongs with 95% confidence\n",
    "mean_ci(dfTaxiSample.loc[dfTaxiSample['PUZone']=='Brooklyn']['speed'])"
   ]
  },
  {
   "cell_type": "code",
   "execution_count": 78,
   "metadata": {},
   "outputs": [
    {
     "data": {
      "text/plain": [
       "(13.3544426185012, 13.775388715852507)"
      ]
     },
     "execution_count": 78,
     "metadata": {},
     "output_type": "execute_result"
    }
   ],
   "source": [
    "#estimate for the average speed in Queens\n",
    "#interval where it belongs with 95% confidence\n",
    "mean_ci(dfTaxiSample.loc[dfTaxiSample['PUZone']=='Queens']['speed'])"
   ]
  },
  {
   "cell_type": "code",
   "execution_count": 79,
   "metadata": {},
   "outputs": [
    {
     "data": {
      "text/plain": [
       "(14.739362886663796, 15.619417294046317)"
      ]
     },
     "execution_count": 79,
     "metadata": {},
     "output_type": "execute_result"
    }
   ],
   "source": [
    "#estimate for the average speed in Bronx\n",
    "#interval where it belongs with 95% confidence\n",
    "mean_ci(dfTaxiSample.loc[dfTaxiSample['PUZone']=='Bronx']['speed'])"
   ]
  },
  {
   "cell_type": "markdown",
   "metadata": {},
   "source": [
    "Confidence itervals for the the average speed in boroughs do not overlap (there is no value that is likely to serve as a common average for any two boroughs), so the average speeds in Boroughs are signifinatly different "
   ]
  },
  {
   "cell_type": "markdown",
   "metadata": {},
   "source": [
    "# Task 4. Ridership drop during pandemics\n",
    "No doubt that 2020 saw a large drop in ridership but how can we assess it? Keep in mind that we don't have the full year, the drop just started in March and there is also a general decline in taxi ridership, so we need a way to distinguish pandemics-related drop from the general trend. In order to account for it, normalize 2020 daily ridership data by the same day's 30-days rolling average (15 days before/after to smoothen out the effect of weekly variations within the baseline) in 2019, and compare the daily ratios of ridership after the shelter in place order (Mar 20th till June, 30th, 2020) and before (Jan, 16-Mar, 20th, 2020). Report p-values of ks-test and t-test. Can we reject the null hypothesis that daily ridership ratio average/distribution after March, 20, 2020 is the same as before? For comparison and to provide a baseline for evaluating results of the hypothesis testing perform the same analysis for the same periods of 2019. Can we reject the null hypothesis that daily ridership ratio average/distribution after March, 20, 2019 is the same as before?"
   ]
  },
  {
   "cell_type": "code",
   "execution_count": 102,
   "metadata": {},
   "outputs": [],
   "source": [
    "#and extract month and day from the date for 2019 daily trip count\n",
    "dfTaxiDaily2019['Date'] = pd.to_datetime(dfTaxiDaily2019['Date'])\n",
    "dfTaxiDaily2019['Month'] = dfTaxiDaily2019.Date.dt.month\n",
    "dfTaxiDaily2019['Day'] = dfTaxiDaily2019.Date.dt.day\n",
    "#dfTaxiDaily2019.head()"
   ]
  },
  {
   "cell_type": "code",
   "execution_count": 83,
   "metadata": {},
   "outputs": [
    {
     "data": {
      "text/html": [
       "<div>\n",
       "<style scoped>\n",
       "    .dataframe tbody tr th:only-of-type {\n",
       "        vertical-align: middle;\n",
       "    }\n",
       "\n",
       "    .dataframe tbody tr th {\n",
       "        vertical-align: top;\n",
       "    }\n",
       "\n",
       "    .dataframe thead th {\n",
       "        text-align: right;\n",
       "    }\n",
       "</style>\n",
       "<table border=\"1\" class=\"dataframe\">\n",
       "  <thead>\n",
       "    <tr style=\"text-align: right;\">\n",
       "      <th></th>\n",
       "      <th>Year</th>\n",
       "      <th>Month</th>\n",
       "      <th>DOW</th>\n",
       "      <th>Date</th>\n",
       "      <th>trip_count</th>\n",
       "      <th>trip_duration</th>\n",
       "      <th>trip_distance</th>\n",
       "      <th>speed</th>\n",
       "      <th>Day</th>\n",
       "    </tr>\n",
       "  </thead>\n",
       "  <tbody>\n",
       "    <tr>\n",
       "      <td>738</td>\n",
       "      <td>2020</td>\n",
       "      <td>1</td>\n",
       "      <td>2</td>\n",
       "      <td>2020-01-01</td>\n",
       "      <td>10410</td>\n",
       "      <td>146795.583333</td>\n",
       "      <td>42825.83</td>\n",
       "      <td>17.504272</td>\n",
       "      <td>1</td>\n",
       "    </tr>\n",
       "    <tr>\n",
       "      <td>743</td>\n",
       "      <td>2020</td>\n",
       "      <td>1</td>\n",
       "      <td>3</td>\n",
       "      <td>2020-01-02</td>\n",
       "      <td>14440</td>\n",
       "      <td>241500.683333</td>\n",
       "      <td>61940.19</td>\n",
       "      <td>15.388824</td>\n",
       "      <td>2</td>\n",
       "    </tr>\n",
       "    <tr>\n",
       "      <td>748</td>\n",
       "      <td>2020</td>\n",
       "      <td>1</td>\n",
       "      <td>4</td>\n",
       "      <td>2020-01-03</td>\n",
       "      <td>15463</td>\n",
       "      <td>252003.183333</td>\n",
       "      <td>62165.15</td>\n",
       "      <td>14.801039</td>\n",
       "      <td>3</td>\n",
       "    </tr>\n",
       "    <tr>\n",
       "      <td>753</td>\n",
       "      <td>2020</td>\n",
       "      <td>1</td>\n",
       "      <td>5</td>\n",
       "      <td>2020-01-04</td>\n",
       "      <td>13797</td>\n",
       "      <td>205190.250000</td>\n",
       "      <td>54313.63</td>\n",
       "      <td>15.881933</td>\n",
       "      <td>4</td>\n",
       "    </tr>\n",
       "    <tr>\n",
       "      <td>757</td>\n",
       "      <td>2020</td>\n",
       "      <td>1</td>\n",
       "      <td>6</td>\n",
       "      <td>2020-01-05</td>\n",
       "      <td>12255</td>\n",
       "      <td>176122.633333</td>\n",
       "      <td>49472.43</td>\n",
       "      <td>16.853858</td>\n",
       "      <td>5</td>\n",
       "    </tr>\n",
       "  </tbody>\n",
       "</table>\n",
       "</div>"
      ],
      "text/plain": [
       "     Year  Month  DOW       Date  trip_count  trip_duration  trip_distance  \\\n",
       "738  2020      1    2 2020-01-01       10410  146795.583333       42825.83   \n",
       "743  2020      1    3 2020-01-02       14440  241500.683333       61940.19   \n",
       "748  2020      1    4 2020-01-03       15463  252003.183333       62165.15   \n",
       "753  2020      1    5 2020-01-04       13797  205190.250000       54313.63   \n",
       "757  2020      1    6 2020-01-05       12255  176122.633333       49472.43   \n",
       "\n",
       "         speed  Day  \n",
       "738  17.504272    1  \n",
       "743  15.388824    2  \n",
       "748  14.801039    3  \n",
       "753  15.881933    4  \n",
       "757  16.853858    5  "
      ]
     },
     "execution_count": 83,
     "metadata": {},
     "output_type": "execute_result"
    }
   ],
   "source": [
    "#prepare daily 2020 daily trip data\n",
    "dfTaxiDaily2020 = dfTaxiDaily.loc[dfTaxiDaily['Year']==2020]\n",
    "dfTaxiDaily2020['Date'] = pd.to_datetime(dfTaxiDaily2020['Date'])\n",
    "dfTaxiDaily2020['Month'] = dfTaxiDaily2020.Date.dt.month\n",
    "dfTaxiDaily2020['Day'] = dfTaxiDaily2020.Date.dt.day\n",
    "dfTaxiDaily2020.head()"
   ]
  },
  {
   "cell_type": "code",
   "execution_count": 84,
   "metadata": {},
   "outputs": [
    {
     "data": {
      "text/html": [
       "<div>\n",
       "<style scoped>\n",
       "    .dataframe tbody tr th:only-of-type {\n",
       "        vertical-align: middle;\n",
       "    }\n",
       "\n",
       "    .dataframe tbody tr th {\n",
       "        vertical-align: top;\n",
       "    }\n",
       "\n",
       "    .dataframe thead th {\n",
       "        text-align: right;\n",
       "    }\n",
       "</style>\n",
       "<table border=\"1\" class=\"dataframe\">\n",
       "  <thead>\n",
       "    <tr style=\"text-align: right;\">\n",
       "      <th></th>\n",
       "      <th>Year</th>\n",
       "      <th>Month</th>\n",
       "      <th>DOW</th>\n",
       "      <th>Date</th>\n",
       "      <th>trip_count</th>\n",
       "      <th>trip_duration</th>\n",
       "      <th>trip_distance</th>\n",
       "      <th>speed</th>\n",
       "      <th>Day</th>\n",
       "    </tr>\n",
       "  </thead>\n",
       "  <tbody>\n",
       "    <tr>\n",
       "      <td>0</td>\n",
       "      <td>2018</td>\n",
       "      <td>1</td>\n",
       "      <td>0</td>\n",
       "      <td>2018-01-01</td>\n",
       "      <td>22423</td>\n",
       "      <td>264304.966667</td>\n",
       "      <td>68020.99</td>\n",
       "      <td>15.441478</td>\n",
       "      <td>1</td>\n",
       "    </tr>\n",
       "    <tr>\n",
       "      <td>5</td>\n",
       "      <td>2018</td>\n",
       "      <td>1</td>\n",
       "      <td>1</td>\n",
       "      <td>2018-01-02</td>\n",
       "      <td>22612</td>\n",
       "      <td>274769.883333</td>\n",
       "      <td>59582.22</td>\n",
       "      <td>13.010644</td>\n",
       "      <td>2</td>\n",
       "    </tr>\n",
       "    <tr>\n",
       "      <td>10</td>\n",
       "      <td>2018</td>\n",
       "      <td>1</td>\n",
       "      <td>2</td>\n",
       "      <td>2018-01-03</td>\n",
       "      <td>25687</td>\n",
       "      <td>342076.633333</td>\n",
       "      <td>69511.54</td>\n",
       "      <td>12.192275</td>\n",
       "      <td>3</td>\n",
       "    </tr>\n",
       "    <tr>\n",
       "      <td>15</td>\n",
       "      <td>2018</td>\n",
       "      <td>1</td>\n",
       "      <td>3</td>\n",
       "      <td>2018-01-04</td>\n",
       "      <td>6298</td>\n",
       "      <td>80906.850000</td>\n",
       "      <td>16407.39</td>\n",
       "      <td>12.167615</td>\n",
       "      <td>4</td>\n",
       "    </tr>\n",
       "    <tr>\n",
       "      <td>19</td>\n",
       "      <td>2018</td>\n",
       "      <td>1</td>\n",
       "      <td>4</td>\n",
       "      <td>2018-01-05</td>\n",
       "      <td>26774</td>\n",
       "      <td>341913.516667</td>\n",
       "      <td>64378.27</td>\n",
       "      <td>11.297290</td>\n",
       "      <td>5</td>\n",
       "    </tr>\n",
       "  </tbody>\n",
       "</table>\n",
       "</div>"
      ],
      "text/plain": [
       "    Year  Month  DOW       Date  trip_count  trip_duration  trip_distance  \\\n",
       "0   2018      1    0 2018-01-01       22423  264304.966667       68020.99   \n",
       "5   2018      1    1 2018-01-02       22612  274769.883333       59582.22   \n",
       "10  2018      1    2 2018-01-03       25687  342076.633333       69511.54   \n",
       "15  2018      1    3 2018-01-04        6298   80906.850000       16407.39   \n",
       "19  2018      1    4 2018-01-05       26774  341913.516667       64378.27   \n",
       "\n",
       "        speed  Day  \n",
       "0   15.441478    1  \n",
       "5   13.010644    2  \n",
       "10  12.192275    3  \n",
       "15  12.167615    4  \n",
       "19  11.297290    5  "
      ]
     },
     "execution_count": 84,
     "metadata": {},
     "output_type": "execute_result"
    }
   ],
   "source": [
    "#prepare daily 2018 daily trip data\n",
    "dfTaxiDaily2018 = dfTaxiDaily.loc[dfTaxiDaily['Year']==2018]\n",
    "dfTaxiDaily2018['Date'] = pd.to_datetime(dfTaxiDaily2018['Date'])\n",
    "dfTaxiDaily2018['Month'] = dfTaxiDaily2018.Date.dt.month\n",
    "dfTaxiDaily2018['Day'] = dfTaxiDaily2018.Date.dt.day\n",
    "dfTaxiDaily2018.head()"
   ]
  },
  {
   "cell_type": "code",
   "execution_count": 85,
   "metadata": {},
   "outputs": [],
   "source": [
    "#assess rolling average for 2019 trip count\n",
    "dfTaxiDaily2019['2019rolling_trip_count'] = dfTaxiDaily2019['trip_count'].rolling(30,center=True).mean()\n",
    "dfTaxiDaily2019.dropna(inplace=True)"
   ]
  },
  {
   "cell_type": "code",
   "execution_count": 86,
   "metadata": {},
   "outputs": [],
   "source": [
    "#assess rolling average for 2018 trip count\n",
    "dfTaxiDaily2018['2018rolling_trip_count'] = dfTaxiDaily2018['trip_count'].rolling(30,center=True).mean()\n",
    "dfTaxiDaily2018.dropna(inplace=True)"
   ]
  },
  {
   "cell_type": "code",
   "execution_count": 90,
   "metadata": {},
   "outputs": [
    {
     "data": {
      "text/html": [
       "<div>\n",
       "<style scoped>\n",
       "    .dataframe tbody tr th:only-of-type {\n",
       "        vertical-align: middle;\n",
       "    }\n",
       "\n",
       "    .dataframe tbody tr th {\n",
       "        vertical-align: top;\n",
       "    }\n",
       "\n",
       "    .dataframe thead th {\n",
       "        text-align: right;\n",
       "    }\n",
       "</style>\n",
       "<table border=\"1\" class=\"dataframe\">\n",
       "  <thead>\n",
       "    <tr style=\"text-align: right;\">\n",
       "      <th></th>\n",
       "      <th>Year</th>\n",
       "      <th>Month</th>\n",
       "      <th>DOW</th>\n",
       "      <th>Date</th>\n",
       "      <th>trip_count</th>\n",
       "      <th>trip_duration</th>\n",
       "      <th>trip_distance</th>\n",
       "      <th>speed</th>\n",
       "      <th>2019rolling_trip_count</th>\n",
       "      <th>Day</th>\n",
       "      <th>2018rolling_trip_count</th>\n",
       "      <th>trip_count_ratio</th>\n",
       "    </tr>\n",
       "  </thead>\n",
       "  <tbody>\n",
       "    <tr>\n",
       "      <td>0</td>\n",
       "      <td>2019</td>\n",
       "      <td>1</td>\n",
       "      <td>3</td>\n",
       "      <td>2019-01-31</td>\n",
       "      <td>20615</td>\n",
       "      <td>314955.916667</td>\n",
       "      <td>69815.24</td>\n",
       "      <td>13.300002</td>\n",
       "      <td>20257.500000</td>\n",
       "      <td>31</td>\n",
       "      <td>26551.333333</td>\n",
       "      <td>0.776421</td>\n",
       "    </tr>\n",
       "    <tr>\n",
       "      <td>1</td>\n",
       "      <td>2019</td>\n",
       "      <td>2</td>\n",
       "      <td>4</td>\n",
       "      <td>2019-02-01</td>\n",
       "      <td>24334</td>\n",
       "      <td>386955.150000</td>\n",
       "      <td>82031.33</td>\n",
       "      <td>12.719510</td>\n",
       "      <td>20289.566667</td>\n",
       "      <td>1</td>\n",
       "      <td>26668.300000</td>\n",
       "      <td>0.912469</td>\n",
       "    </tr>\n",
       "    <tr>\n",
       "      <td>2</td>\n",
       "      <td>2019</td>\n",
       "      <td>2</td>\n",
       "      <td>5</td>\n",
       "      <td>2019-02-02</td>\n",
       "      <td>21925</td>\n",
       "      <td>311253.000000</td>\n",
       "      <td>72423.76</td>\n",
       "      <td>13.961072</td>\n",
       "      <td>20215.433333</td>\n",
       "      <td>2</td>\n",
       "      <td>26859.300000</td>\n",
       "      <td>0.816291</td>\n",
       "    </tr>\n",
       "    <tr>\n",
       "      <td>3</td>\n",
       "      <td>2019</td>\n",
       "      <td>2</td>\n",
       "      <td>6</td>\n",
       "      <td>2019-02-03</td>\n",
       "      <td>18084</td>\n",
       "      <td>255064.516667</td>\n",
       "      <td>65647.22</td>\n",
       "      <td>15.442498</td>\n",
       "      <td>20049.866667</td>\n",
       "      <td>3</td>\n",
       "      <td>26972.966667</td>\n",
       "      <td>0.670449</td>\n",
       "    </tr>\n",
       "    <tr>\n",
       "      <td>4</td>\n",
       "      <td>2019</td>\n",
       "      <td>2</td>\n",
       "      <td>0</td>\n",
       "      <td>2019-02-04</td>\n",
       "      <td>19650</td>\n",
       "      <td>333498.866667</td>\n",
       "      <td>74428.33</td>\n",
       "      <td>13.390450</td>\n",
       "      <td>19875.166667</td>\n",
       "      <td>4</td>\n",
       "      <td>26759.833333</td>\n",
       "      <td>0.734310</td>\n",
       "    </tr>\n",
       "  </tbody>\n",
       "</table>\n",
       "</div>"
      ],
      "text/plain": [
       "   Year  Month  DOW       Date  trip_count  trip_duration  trip_distance  \\\n",
       "0  2019      1    3 2019-01-31       20615  314955.916667       69815.24   \n",
       "1  2019      2    4 2019-02-01       24334  386955.150000       82031.33   \n",
       "2  2019      2    5 2019-02-02       21925  311253.000000       72423.76   \n",
       "3  2019      2    6 2019-02-03       18084  255064.516667       65647.22   \n",
       "4  2019      2    0 2019-02-04       19650  333498.866667       74428.33   \n",
       "\n",
       "       speed  2019rolling_trip_count  Day  2018rolling_trip_count  \\\n",
       "0  13.300002            20257.500000   31            26551.333333   \n",
       "1  12.719510            20289.566667    1            26668.300000   \n",
       "2  13.961072            20215.433333    2            26859.300000   \n",
       "3  15.442498            20049.866667    3            26972.966667   \n",
       "4  13.390450            19875.166667    4            26759.833333   \n",
       "\n",
       "   trip_count_ratio  \n",
       "0          0.776421  \n",
       "1          0.912469  \n",
       "2          0.816291  \n",
       "3          0.670449  \n",
       "4          0.734310  "
      ]
     },
     "execution_count": 90,
     "metadata": {},
     "output_type": "execute_result"
    }
   ],
   "source": [
    "#2019 to 2018 rolling average daily trip ratio\n",
    "dfTaxiDaily2019Ratio = dfTaxiDaily2019.merge(dfTaxiDaily2018[['Month','Day','2018rolling_trip_count']],on=['Month','Day'])\n",
    "dfTaxiDaily2019Ratio['trip_count_ratio'] = dfTaxiDaily2019Ratio['trip_count'] / dfTaxiDaily2019Ratio['2018rolling_trip_count']\n",
    "dfTaxiDaily2019Ratio.head()"
   ]
  },
  {
   "cell_type": "code",
   "execution_count": 91,
   "metadata": {},
   "outputs": [
    {
     "data": {
      "text/html": [
       "<div>\n",
       "<style scoped>\n",
       "    .dataframe tbody tr th:only-of-type {\n",
       "        vertical-align: middle;\n",
       "    }\n",
       "\n",
       "    .dataframe tbody tr th {\n",
       "        vertical-align: top;\n",
       "    }\n",
       "\n",
       "    .dataframe thead th {\n",
       "        text-align: right;\n",
       "    }\n",
       "</style>\n",
       "<table border=\"1\" class=\"dataframe\">\n",
       "  <thead>\n",
       "    <tr style=\"text-align: right;\">\n",
       "      <th></th>\n",
       "      <th>Year</th>\n",
       "      <th>Month</th>\n",
       "      <th>DOW</th>\n",
       "      <th>Date</th>\n",
       "      <th>trip_count</th>\n",
       "      <th>trip_duration</th>\n",
       "      <th>trip_distance</th>\n",
       "      <th>speed</th>\n",
       "      <th>Day</th>\n",
       "      <th>2019rolling_trip_count</th>\n",
       "      <th>trip_count_ratio</th>\n",
       "    </tr>\n",
       "  </thead>\n",
       "  <tbody>\n",
       "    <tr>\n",
       "      <td>0</td>\n",
       "      <td>2020</td>\n",
       "      <td>1</td>\n",
       "      <td>4</td>\n",
       "      <td>2020-01-31</td>\n",
       "      <td>14810</td>\n",
       "      <td>236643.566667</td>\n",
       "      <td>51143.93</td>\n",
       "      <td>12.967332</td>\n",
       "      <td>31</td>\n",
       "      <td>20257.500000</td>\n",
       "      <td>0.731087</td>\n",
       "    </tr>\n",
       "    <tr>\n",
       "      <td>1</td>\n",
       "      <td>2020</td>\n",
       "      <td>2</td>\n",
       "      <td>5</td>\n",
       "      <td>2020-02-01</td>\n",
       "      <td>12410</td>\n",
       "      <td>171041.066667</td>\n",
       "      <td>42034.93</td>\n",
       "      <td>14.745557</td>\n",
       "      <td>1</td>\n",
       "      <td>20289.566667</td>\n",
       "      <td>0.611644</td>\n",
       "    </tr>\n",
       "    <tr>\n",
       "      <td>2</td>\n",
       "      <td>2020</td>\n",
       "      <td>2</td>\n",
       "      <td>6</td>\n",
       "      <td>2020-02-02</td>\n",
       "      <td>11318</td>\n",
       "      <td>155694.233333</td>\n",
       "      <td>40678.39</td>\n",
       "      <td>15.676261</td>\n",
       "      <td>2</td>\n",
       "      <td>20215.433333</td>\n",
       "      <td>0.559869</td>\n",
       "    </tr>\n",
       "    <tr>\n",
       "      <td>3</td>\n",
       "      <td>2020</td>\n",
       "      <td>2</td>\n",
       "      <td>0</td>\n",
       "      <td>2020-02-03</td>\n",
       "      <td>12750</td>\n",
       "      <td>200905.400000</td>\n",
       "      <td>45921.91</td>\n",
       "      <td>13.714488</td>\n",
       "      <td>3</td>\n",
       "      <td>20049.866667</td>\n",
       "      <td>0.635914</td>\n",
       "    </tr>\n",
       "    <tr>\n",
       "      <td>4</td>\n",
       "      <td>2020</td>\n",
       "      <td>2</td>\n",
       "      <td>1</td>\n",
       "      <td>2020-02-04</td>\n",
       "      <td>13241</td>\n",
       "      <td>214757.966667</td>\n",
       "      <td>49131.26</td>\n",
       "      <td>13.726502</td>\n",
       "      <td>4</td>\n",
       "      <td>19875.166667</td>\n",
       "      <td>0.666208</td>\n",
       "    </tr>\n",
       "  </tbody>\n",
       "</table>\n",
       "</div>"
      ],
      "text/plain": [
       "   Year  Month  DOW       Date  trip_count  trip_duration  trip_distance  \\\n",
       "0  2020      1    4 2020-01-31       14810  236643.566667       51143.93   \n",
       "1  2020      2    5 2020-02-01       12410  171041.066667       42034.93   \n",
       "2  2020      2    6 2020-02-02       11318  155694.233333       40678.39   \n",
       "3  2020      2    0 2020-02-03       12750  200905.400000       45921.91   \n",
       "4  2020      2    1 2020-02-04       13241  214757.966667       49131.26   \n",
       "\n",
       "       speed  Day  2019rolling_trip_count  trip_count_ratio  \n",
       "0  12.967332   31            20257.500000          0.731087  \n",
       "1  14.745557    1            20289.566667          0.611644  \n",
       "2  15.676261    2            20215.433333          0.559869  \n",
       "3  13.714488    3            20049.866667          0.635914  \n",
       "4  13.726502    4            19875.166667          0.666208  "
      ]
     },
     "execution_count": 91,
     "metadata": {},
     "output_type": "execute_result"
    }
   ],
   "source": [
    "#2020 to 2019 rolling average daily trip ratio\n",
    "dfTaxiDaily2020Ratio = dfTaxiDaily2020.merge(dfTaxiDaily2019[['Month','Day','2019rolling_trip_count']],on=['Month','Day'])\n",
    "dfTaxiDaily2020Ratio['trip_count_ratio'] = dfTaxiDaily2020Ratio['trip_count'] / dfTaxiDaily2020Ratio['2019rolling_trip_count']\n",
    "dfTaxiDaily2020Ratio.head()"
   ]
  },
  {
   "cell_type": "code",
   "execution_count": 92,
   "metadata": {},
   "outputs": [
    {
     "data": {
      "text/plain": [
       "3.714958403160484e-71"
      ]
     },
     "execution_count": 92,
     "metadata": {},
     "output_type": "execute_result"
    }
   ],
   "source": [
    "# 2020 ratios before and after lockdown: t-test\n",
    "stats.ttest_ind(dfTaxiDaily2020Ratio.loc[dfTaxiDaily2020Ratio['Date']<pd.Timestamp(2020,3, 20)]['trip_count_ratio'],\n",
    "                               dfTaxiDaily2020Ratio.loc[dfTaxiDaily2020Ratio['Date']>=pd.Timestamp(2020, 3, 20)]['trip_count_ratio']).pvalue"
   ]
  },
  {
   "cell_type": "code",
   "execution_count": 95,
   "metadata": {},
   "outputs": [
    {
     "data": {
      "text/plain": [
       "9.992007221626409e-16"
      ]
     },
     "execution_count": 95,
     "metadata": {},
     "output_type": "execute_result"
    }
   ],
   "source": [
    "# 2020 ks-test\n",
    "stats.ks_2samp(dfTaxiDaily2020Ratio.loc[dfTaxiDaily2020Ratio['Date']<pd.Timestamp(2020,3, 20)]['trip_count_ratio'],\n",
    "                               dfTaxiDaily2020Ratio.loc[dfTaxiDaily2020Ratio['Date']>=pd.Timestamp(2020, 3, 20)]['trip_count_ratio']).pvalue"
   ]
  },
  {
   "cell_type": "markdown",
   "metadata": {},
   "source": [
    "So the null hypothesis that the ratios before and after lockdown follow the same distribution or have the same average can be rejected beyond any reasonable doubt"
   ]
  },
  {
   "cell_type": "code",
   "execution_count": null,
   "metadata": {},
   "outputs": [],
   "source": [
    "# 2019 baseline"
   ]
  },
  {
   "cell_type": "code",
   "execution_count": 93,
   "metadata": {},
   "outputs": [
    {
     "data": {
      "text/plain": [
       "6.62214687545e-12"
      ]
     },
     "execution_count": 93,
     "metadata": {},
     "output_type": "execute_result"
    }
   ],
   "source": [
    "stats.ttest_ind(dfTaxiDaily2019Ratio.loc[dfTaxiDaily2019Ratio['Date']<pd.Timestamp(2019,3, 20)]['trip_count_ratio'],\n",
    "                               dfTaxiDaily2019Ratio.loc[dfTaxiDaily2019Ratio['Date']>=pd.Timestamp(2019, 3, 20)]['trip_count_ratio']).pvalue"
   ]
  },
  {
   "cell_type": "code",
   "execution_count": 96,
   "metadata": {},
   "outputs": [
    {
     "data": {
      "text/plain": [
       "2.5524904412321803e-10"
      ]
     },
     "execution_count": 96,
     "metadata": {},
     "output_type": "execute_result"
    }
   ],
   "source": [
    "stats.ks_2samp(dfTaxiDaily2019Ratio.loc[dfTaxiDaily2019Ratio['Date']<pd.Timestamp(2019,3, 20)]['trip_count_ratio'],\n",
    "                               dfTaxiDaily2019Ratio.loc[dfTaxiDaily2019Ratio['Date']>=pd.Timestamp(2019, 3, 20)]['trip_count_ratio']).pvalue"
   ]
  },
  {
   "cell_type": "markdown",
   "metadata": {},
   "source": [
    "However the baseline analysis for the same period of 2019 would also reject the null-hypothesis. So it looks like the distributions are different simply because the periods are different, might have nothing to do with the lockdown actually. Although p-values are noticeably higher. To get some sense of what is going on with the ratios let's assess the sample means with confidence intervals as above"
   ]
  },
  {
   "cell_type": "code",
   "execution_count": 103,
   "metadata": {},
   "outputs": [
    {
     "data": {
      "text/plain": [
       "(0.5699922275475071, 0.6550574311085797)"
      ]
     },
     "execution_count": 103,
     "metadata": {},
     "output_type": "execute_result"
    }
   ],
   "source": [
    "## COMPLEMENTARY ANALYSIS (not required in the assignment)\n",
    "#average trip count drop in 2020 vs 2019 before the lockdown\n",
    "mean_ci(dfTaxiDaily2020Ratio.loc[dfTaxiDaily2020Ratio['Date']<pd.Timestamp(2020,3, 20)]['trip_count_ratio'])"
   ]
  },
  {
   "cell_type": "code",
   "execution_count": 104,
   "metadata": {},
   "outputs": [
    {
     "data": {
      "text/plain": [
       "(0.09478885494302347, 0.10870804509295712)"
      ]
     },
     "execution_count": 104,
     "metadata": {},
     "output_type": "execute_result"
    }
   ],
   "source": [
    "#average trip count drop in 2020 vs 2019 before after the lockdown\n",
    "mean_ci(dfTaxiDaily2020Ratio.loc[dfTaxiDaily2020Ratio['Date']>=pd.Timestamp(2020,3, 20)]['trip_count_ratio'])"
   ]
  },
  {
   "cell_type": "code",
   "execution_count": 105,
   "metadata": {},
   "outputs": [
    {
     "data": {
      "text/plain": [
       "(0.710912899097271, 0.7592905587797857)"
      ]
     },
     "execution_count": 105,
     "metadata": {},
     "output_type": "execute_result"
    }
   ],
   "source": [
    "#average trip count drop in 2019 vs 2018 before March, 20 (same date for comparison)\n",
    "mean_ci(dfTaxiDaily2019Ratio.loc[dfTaxiDaily2019Ratio['Date']<pd.Timestamp(2019, 3, 20)]['trip_count_ratio'])"
   ]
  },
  {
   "cell_type": "code",
   "execution_count": 106,
   "metadata": {},
   "outputs": [
    {
     "data": {
      "text/plain": [
       "(0.6431147309820072, 0.6607914893145882)"
      ]
     },
     "execution_count": 106,
     "metadata": {},
     "output_type": "execute_result"
    }
   ],
   "source": [
    "#average trip count drop in 2019 vs 2018 after March, 20 (same date for comparison)\n",
    "mean_ci(dfTaxiDaily2019Ratio.loc[dfTaxiDaily2019Ratio['Date']>=pd.Timestamp(2019, 3, 20)]['trip_count_ratio'])"
   ]
  },
  {
   "cell_type": "markdown",
   "metadata": {},
   "source": [
    "So while the confidence intervals for the averages indeed do not overlap in either year and it looks like the spring ridership also dropped more significantly in 2019 for some reason, the difference in 2020 is dramatically higher than in 2019. After the lockdown the ridership is only 10\\% of the level of 2019, while before the lockdown it was around 60\\%."
   ]
  },
  {
   "cell_type": "code",
   "execution_count": null,
   "metadata": {},
   "outputs": [],
   "source": []
  }
 ],
 "metadata": {
  "kernelspec": {
   "display_name": "Python 3",
   "language": "python",
   "name": "python3"
  },
  "language_info": {
   "codemirror_mode": {
    "name": "ipython",
    "version": 3
   },
   "file_extension": ".py",
   "mimetype": "text/x-python",
   "name": "python",
   "nbconvert_exporter": "python",
   "pygments_lexer": "ipython3",
   "version": "3.7.3"
  }
 },
 "nbformat": 4,
 "nbformat_minor": 4
}
